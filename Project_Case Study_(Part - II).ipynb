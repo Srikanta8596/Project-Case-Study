{
 "cells": [
  {
   "cell_type": "markdown",
   "metadata": {},
   "source": [
    "# Solution"
   ]
  },
  {
   "cell_type": "markdown",
   "metadata": {},
   "source": [
    "## Q1"
   ]
  },
  {
   "cell_type": "code",
   "execution_count": null,
   "metadata": {},
   "outputs": [],
   "source": [
    "#City wise percentage\n",
    "import pandas as pd\n",
    "import numpy as np \n",
    "df=pd.read_csv('startup_funding.csv',encoding='utf-8')\n",
    "df['CityLocation'].dropna(inplace=True)\n",
    "def separateCity(city): \n",
    "    return city.split('/')[0].strip() \n",
    "df['CityLocation']=df['CityLocation'].apply(separateCity) \n",
    "df['CityLocation'].replace(\"Delhi\",\"New Delhi\",inplace=True) \n",
    "df['CityLocation'].replace(\"bangalore\",\"Bangalore\",inplace=True) \n",
    "\n",
    "def str_int(v):\n",
    "    return float(str(v).replace(\",\",\"\"))\n",
    "df['AmountInUSD']=df['AmountInUSD'].apply(str_int)\n",
    "df['AmountInUSD']=pd.to_numeric(df['AmountInUSD'])\n",
    "city_funding=df.groupby(\"CityLocation\")['AmountInUSD'].sum().sort_values(ascending=False)[0:10]\n",
    "city=city_funding.index\n",
    "fundingCity=city_funding.values\n",
    "fundingAmount=np.true_divide(fundingCity,fundingCity.sum())*100\n",
    "for i in range(len(city)):\n",
    "    print(city[i],format(fundingAmount[i],'0.2f'))\n",
    "    \n",
    "plt.bar(city,fundingAmount)\n",
    "plt.title('City vs Percentage of funding')\n",
    "plt.xlabel('City')\n",
    "plt.ylabel('Percentage')\n",
    "plt.xticks(rotation=90)"
   ]
  },
  {
   "cell_type": "code",
   "execution_count": null,
   "metadata": {},
   "outputs": [],
   "source": [
    "import pandas as pd\n",
    "import numpy as np \n",
    "df_start=pd.read_csv('startup_funding.csv',encoding='utf-8')\n",
    "df_start['CityLocation'].dropna(inplace=True)\n",
    "def separateCity(city): \n",
    "    return city.split('/')[0].strip() \n",
    "df_start['CityLocation']=df_start['CityLocation'].apply(separateCity) \n",
    "df_start['CityLocation'].replace(\"Delhi\",\"New Delhi\",inplace=True) \n",
    "df_start['CityLocation'].replace(\"bangalore\",\"Bangalore\",inplace=True) \n",
    "city_number=df_start['CityLocation'].value_counts()[0:10] \n",
    "city=city_number.index \n",
    "numCity=city_number.values \n",
    "for i in range(len(city)): \n",
    "    print(city[i],numCity[i])\n",
    "    \n",
    "    \n",
    "plt.bar(city,numCity)\n",
    "plt.title('City vs Frequency of funding')\n",
    "plt.xlabel('City')\n",
    "plt.ylabel('Frequency')\n",
    "plt.xticks(rotation=90)"
   ]
  },
  {
   "cell_type": "markdown",
   "metadata": {},
   "source": [
    "## Q2"
   ]
  },
  {
   "cell_type": "code",
   "execution_count": 11,
   "metadata": {},
   "outputs": [
    {
     "name": "stdout",
     "output_type": "stream",
     "text": [
      "                       0\n",
      "Sequoia Capital       64\n",
      "Accel Partners        53\n",
      "Kalaari Capital       44\n",
      "SAIF Partners         41\n",
      "Indian Angel Network  40\n"
     ]
    }
   ],
   "source": [
    "import pandas as pd\n",
    "import numpy as np\n",
    "df_start=pd.read_csv('startup_funding.csv',encoding='utf-8')\n",
    "df_start['InvestorsName'].dropna(inplace=True)\n",
    "def createDictionary(array):\n",
    "    dictionary={} \n",
    "    for i in array: \n",
    "        if ',' not in i: \n",
    "            dictionary[i]=dictionary.get(i,0)+1 \n",
    "        else: \n",
    "            string=i.strip().split(',') \n",
    "            for j in string: \n",
    "                if j.strip() in dictionary: \n",
    "                    dictionary[j.strip()]=dictionary.get(j.strip(),0)+1 \n",
    "                else: \n",
    "                    dictionary[j.strip()]=1 \n",
    "    return dictionary \n",
    "dictionary=createDictionary(df_start['InvestorsName']) \n",
    "dataf=pd.DataFrame(list(dictionary.values()),list(dictionary.keys())) \n",
    "dataf=dataf.sort_values(by=[0],ascending=False) \n",
    "#print(dataf.index[0],dataf.values[0][0])\n",
    "print(dataf[0:5])\n",
    "index=dataf.index[0:5]\n",
    "values=dataf[0][0:5]"
   ]
  },
  {
   "cell_type": "code",
   "execution_count": 12,
   "metadata": {},
   "outputs": [
    {
     "data": {
      "text/plain": [
       "([0, 1, 2, 3, 4], <a list of 5 Text xticklabel objects>)"
      ]
     },
     "execution_count": 12,
     "metadata": {},
     "output_type": "execute_result"
    },
    {
     "data": {
      "image/png": "[encoded data removed]",
      "text/plain": [
       "<Figure size 432x288 with 1 Axes>"
      ]
     },
     "metadata": {
      "needs_background": "light"
     },
     "output_type": "display_data"
    }
   ],
   "source": [
    "plt.bar(index,values)\n",
    "plt.title('Investor vs Frequency of funding')\n",
    "plt.xlabel('Investor')\n",
    "plt.ylabel('Frequency')\n",
    "plt.xticks(rotation=90)"
   ]
  },
  {
   "cell_type": "markdown",
   "metadata": {},
   "source": [
    "## Q3"
   ]
  },
  {
   "cell_type": "code",
   "execution_count": null,
   "metadata": {},
   "outputs": [],
   "source": [
    "import pandas as pd\n",
    "import matplotlib.pyplot as plt\n",
    "data=pd.read_csv('startup_funding.csv')\n",
    "df=data.copy()\n",
    "### Change all important name to correct name\n",
    "df.dropna(subset=['InvestorsName','StartupName'],inplace=True)\n",
    "df['StartupName'].replace('Flipkart.com','Flipkart',inplace=True)\n",
    "df['StartupName'].replace('Ola Cabs','Ola',inplace=True)\n",
    "df['StartupName'].replace('Olacabs','Ola',inplace=True)\n",
    "df['StartupName'].replace('Ola Cabs','Ola',inplace=True)\n",
    "df['StartupName'].replace('Olacabs','Ola',inplace=True)\n",
    "df['StartupName'].replace('Oyo Rooms','Oyo',inplace=True)\n",
    "df['StartupName'].replace('Oyorooms','Oyo',inplace=True)\n",
    "df['StartupName'].replace('OyoRooms','Oyo',inplace=True)\n",
    "df['StartupName'].replace('OYO Rooms','Oyo',inplace=True)\n",
    "df['StartupName'].replace('Paytm Marketplace','Paytm',inplace=True)\n",
    "startupName_list=list(df[\"StartupName\"])\n",
    "investorsName_list=list(df[\"InvestorsName\"])\n",
    "\n",
    "#DICTIONARY FOR INVESTORS\n",
    "d={}\n",
    "for i in range(len(investorsName_list)):\n",
    "    investors=investorsName_list[i].split(',')\n",
    "    for investor in investors:\n",
    "        investor=investor.strip()\n",
    "        if investor !='':\n",
    "            if investor in d:\n",
    "                s=d[investor]\n",
    "                s.add(startupName_list[i])\n",
    "                d[investor]=s          \n",
    "            else:\n",
    "                d[investor]={startupName_list[i]}\n",
    "\n",
    "for key in d:\n",
    "    d[key]=len(d[key])\n",
    "    \n",
    "    \n",
    "investor_name=np.array(list(d.keys()))\n",
    "number_of_fundings=np.array(list(d.values()))\n",
    "dummyDF=pd.DataFrame()\n",
    "\n",
    "dummyDF['investor_name']=investor_name\n",
    "dummyDF['number_of_fundings']=number_of_fundings\n",
    "\n",
    "TopF=dummyDF.sort_values(by=['number_of_fundings'],ascending=False)[:5]\n",
    "\n",
    "print(TopF)\n"
   ]
  },
  {
   "cell_type": "code",
   "execution_count": 5,
   "metadata": {},
   "outputs": [
    {
     "data": {
      "text/plain": [
       "([0, 1, 2, 3, 4], <a list of 5 Text xticklabel objects>)"
      ]
     },
     "execution_count": 5,
     "metadata": {},
     "output_type": "execute_result"
    },
    {
     "data": {
      "image/png": "[encoded data removed]",
      "text/plain": [
       "<Figure size 432x288 with 1 Axes>"
      ]
     },
     "metadata": {
      "needs_background": "light"
     },
     "output_type": "display_data"
    }
   ],
   "source": [
    "plt.bar(TopF['investor_name'],TopF['number_of_fundings'][0:5])\n",
    "plt.title('Investor vs Frequency of funding')\n",
    "plt.xlabel('Investor')\n",
    "plt.ylabel('Frequency')\n",
    "plt.xticks(rotation=90)"
   ]
  },
  {
   "cell_type": "markdown",
   "metadata": {},
   "source": [
    "### Q4"
   ]
  },
  {
   "cell_type": "code",
   "execution_count": 2,
   "metadata": {},
   "outputs": [
    {
     "name": "stdout",
     "output_type": "stream",
     "text": [
      "                 investor_name  number_of_fundings\n",
      "39        Indian Angel Network                  33\n",
      "37               Rajan Anandan                  23\n",
      "8                  LetsVenture                  16\n",
      "9                Anupam Mittal                  16\n",
      "1360  Group of Angel Investors                  14\n"
     ]
    }
   ],
   "source": [
    "import pandas as pd\n",
    "import numpy as np\n",
    "import matplotlib.pyplot as plt\n",
    "path = 'startup_funding.csv'\n",
    "df = pd.read_csv(path,skipinitialspace = True)\n",
    "df=pd.read_csv('startup_funding.csv', encoding='utf-8')\n",
    "df.dropna(subset=['InvestorsName','StartupName','InvestmentType'],inplace=True)\n",
    "df['InvestmentType'].replace('PrivateEquity','Private Equity',inplace=True)\n",
    "df['InvestmentType'].replace('SeedFunding','Seed Funding',inplace=True)\n",
    "df['InvestmentType'].replace('Crowd funding','Crowd Funding',inplace=True)\n",
    "df['InvestorsName'].replace('Undisclosed investors','Undisclosed Investors',inplace=True)\n",
    "df['StartupName'].replace('Flipkart.com','Flipkart',inplace=True)\n",
    "df['StartupName'].replace('Ola Cabs','Ola',inplace=True)\n",
    "df['StartupName'].replace('Olacabs','Ola',inplace=True)\n",
    "df['StartupName'].replace('Ola Cabs','Ola',inplace=True)\n",
    "df['StartupName'].replace('Olacabs','Ola',inplace=True)\n",
    "df['StartupName'].replace('Oyo Rooms','Oyo',inplace=True)\n",
    "df['StartupName'].replace('Oyorooms','Oyo',inplace=True)\n",
    "df['StartupName'].replace('OyoRooms','Oyo',inplace=True)\n",
    "df['StartupName'].replace('OYO Rooms','Oyo',inplace=True)\n",
    "df['StartupName'].replace('Paytm Marketplace','Paytm',inplace=True)\n",
    "\n",
    "df=df[(df.InvestmentType=='Seed Funding') | (df.InvestmentType=='Crowd Funding')]\n",
    "\n",
    "startupName_list=list(df[\"StartupName\"])\n",
    "investorsName_list=list(df[\"InvestorsName\"])\n",
    "\n",
    "#DICTIONARY FOR INVESTORS\n",
    "d={}\n",
    "for i in range(len(investorsName_list)):\n",
    "    investors=investorsName_list[i].split(',')\n",
    "    for investor in investors:\n",
    "        investor=investor.strip()\n",
    "        if investor !='' and (investor != \"Undisclosed Investors\"):\n",
    "            if investor in d:\n",
    "                s=d[investor]\n",
    "                s.add(startupName_list[i])\n",
    "                d[investor]=s          \n",
    "            else:\n",
    "                d[investor]={startupName_list[i]}\n",
    "\n",
    "for key in d:\n",
    "    d[key]=len(d[key])\n",
    "    \n",
    "    \n",
    "investor_name=np.array(list(d.keys()))\n",
    "number_of_fundings=np.array(list(d.values()))\n",
    "dummyDF=pd.DataFrame()\n",
    "\n",
    "dummyDF['investor_name']=investor_name\n",
    "dummyDF['number_of_fundings']=number_of_fundings\n",
    "\n",
    "TopF=dummyDF.sort_values(by=['number_of_fundings'],ascending=False)[:5]\n",
    "\n",
    "print(TopF)\n"
   ]
  },
  {
   "cell_type": "code",
   "execution_count": 6,
   "metadata": {},
   "outputs": [
    {
     "data": {
      "text/plain": [
       "([0, 1, 2, 3, 4], <a list of 5 Text xticklabel objects>)"
      ]
     },
     "execution_count": 6,
     "metadata": {},
     "output_type": "execute_result"
    },
    {
     "data": {
      "image/png": "[encoded data removed]",
      "text/plain": [
       "<Figure size 432x288 with 1 Axes>"
      ]
     },
     "metadata": {
      "needs_background": "light"
     },
     "output_type": "display_data"
    }
   ],
   "source": [
    "plt.bar(TopF['investor_name'],TopF['number_of_fundings'])\n",
    "plt.title('Investor vs Frequency of funding')\n",
    "plt.xlabel('Investor')\n",
    "plt.ylabel('Frequency')\n",
    "plt.xticks(rotation=90)"
   ]
  },
  {
   "cell_type": "markdown",
   "metadata": {},
   "source": [
    "### Q5"
   ]
  },
  {
   "cell_type": "code",
   "execution_count": 9,
   "metadata": {},
   "outputs": [
    {
     "name": "stdout",
     "output_type": "stream",
     "text": [
      "       investor_name  number_of_fundings\n",
      "84   Sequoia Capital                  45\n",
      "10    Accel Partners                  43\n",
      "6    Kalaari Capital                  35\n",
      "39    Blume Ventures                  27\n",
      "108    SAIF Partners                  24\n"
     ]
    }
   ],
   "source": [
    "import pandas as pd\n",
    "import numpy as np\n",
    "import matplotlib.pyplot as plt\n",
    "path = 'startup_funding.csv'\n",
    "df = pd.read_csv(path,skipinitialspace = True)\n",
    "df=pd.read_csv('startup_funding.csv', encoding='utf-8')\n",
    "df.dropna(subset=['InvestorsName','StartupName','InvestmentType'],inplace=True)\n",
    "df['InvestmentType'].replace('PrivateEquity','Private Equity',inplace=True)\n",
    "df['InvestmentType'].replace('SeedFunding','Seed Funding',inplace=True)\n",
    "df['InvestmentType'].replace('Crowd funding','Crowd Funding',inplace=True)\n",
    "df['InvestorsName'].replace('Undisclosed investors','Undisclosed Investors',inplace=True)\n",
    "df['StartupName'].replace('Flipkart.com','Flipkart',inplace=True)\n",
    "df['StartupName'].replace('Ola Cabs','Ola',inplace=True)\n",
    "df['StartupName'].replace('Olacabs','Ola',inplace=True)\n",
    "df['StartupName'].replace('Ola Cabs','Ola',inplace=True)\n",
    "df['StartupName'].replace('Olacabs','Ola',inplace=True)\n",
    "df['StartupName'].replace('Oyo Rooms','Oyo',inplace=True)\n",
    "df['StartupName'].replace('Oyorooms','Oyo',inplace=True)\n",
    "df['StartupName'].replace('OyoRooms','Oyo',inplace=True)\n",
    "df['StartupName'].replace('OYO Rooms','Oyo',inplace=True)\n",
    "df['StartupName'].replace('Paytm Marketplace','Paytm',inplace=True)\n",
    "\n",
    "df=df[(df.InvestmentType=='Private Equity')]\n",
    "\n",
    "startupName_list=list(df[\"StartupName\"])\n",
    "investorsName_list=list(df[\"InvestorsName\"])\n",
    "\n",
    "#DICTIONARY FOR INVESTORS\n",
    "d={}\n",
    "for i in range(len(investorsName_list)):\n",
    "    investors=investorsName_list[i].split(',')\n",
    "    for investor in investors:\n",
    "        investor=investor.strip()\n",
    "        if investor !='' and (investor != \"Undisclosed Investors\"):\n",
    "            if investor in d:\n",
    "                s=d[investor]\n",
    "                s.add(startupName_list[i])\n",
    "                d[investor]=s          \n",
    "            else:\n",
    "                d[investor]={startupName_list[i]}\n",
    "\n",
    "for key in d:\n",
    "    d[key]=len(d[key])\n",
    "    \n",
    "    \n",
    "investor_name=np.array(list(d.keys()))\n",
    "number_of_fundings=np.array(list(d.values()))\n",
    "dummyDF=pd.DataFrame()\n",
    "\n",
    "dummyDF['investor_name']=investor_name\n",
    "dummyDF['number_of_fundings']=number_of_fundings\n",
    "\n",
    "TopF=dummyDF.sort_values(by=['number_of_fundings'],ascending=False)[:5]\n",
    "\n",
    "print(TopF)"
   ]
  },
  {
   "cell_type": "code",
   "execution_count": 10,
   "metadata": {},
   "outputs": [
    {
     "data": {
      "text/plain": [
       "([0, 1, 2, 3, 4], <a list of 5 Text xticklabel objects>)"
      ]
     },
     "execution_count": 10,
     "metadata": {},
     "output_type": "execute_result"
    },
    {
     "data": {
      "image/png": "[encoded data removed]",
      "text/plain": [
       "<Figure size 432x288 with 1 Axes>"
      ]
     },
     "metadata": {
      "needs_background": "light"
     },
     "output_type": "display_data"
    }
   ],
   "source": [
    "plt.bar(TopF['investor_name'],TopF['number_of_fundings'])\n",
    "plt.title('Investor vs Frequency of funding')\n",
    "plt.xlabel('Investor')\n",
    "plt.ylabel('Frequency')\n",
    "plt.xticks(rotation=90)"
   ]
  },
  {
   "cell_type": "code",
   "execution_count": null,
   "metadata": {},
   "outputs": [],
   "source": []
  }
 ],
 "metadata": {
  "kernelspec": {
   "display_name": "Python 3",
   "language": "python",
   "name": "python3"
  },
  "language_info": {
   "codemirror_mode": {
    "name": "ipython",
    "version": 3
   },
   "file_extension": ".py",
   "mimetype": "text/x-python",
   "name": "python",
   "nbconvert_exporter": "python",
   "pygments_lexer": "ipython3",
   "version": "3.7.6"
  }
 },
 "nbformat": 4,
 "nbformat_minor": 4
}
