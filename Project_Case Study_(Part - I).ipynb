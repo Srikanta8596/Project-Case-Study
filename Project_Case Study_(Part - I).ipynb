{
 "cells": [
  {
   "cell_type": "markdown",
   "metadata": {},
   "source": [
    "### Q1 Number of Funding"
   ]
  },
  {
   "cell_type": "code",
   "execution_count": 1,
   "metadata": {},
   "outputs": [
    {
     "name": "stdout",
     "output_type": "stream",
     "text": [
      "2015 936\n",
      "2016 993\n",
      "2017 443\n"
     ]
    }
   ],
   "source": [
    "# Open and read data file as specified in the question\n",
    "# Print the required output in given format\n",
    "import pandas as pd\n",
    "import matplotlib.pyplot as plt\n",
    "data=pd.read_csv('startup_funding.csv')\n",
    "df=data.copy()\n",
    "df['Date'].replace(\"12/05.2015\",\"12/05/2015\",inplace=True)\n",
    "df['Date'].replace(\"13/04.2015\",\"13/04/2015\",inplace=True)\n",
    "df['Date'].replace(\"15/01.2015\",\"15/01/2015\",inplace=True)\n",
    "df['Date'].replace(\"22/01//2015\",\"22/01/2015\",inplace=True)\n",
    "df['Date']=pd.to_datetime(df['Date'])\n",
    "df[\"Year\"] = df[\"Date\"].dt.year\n",
    "year_count=df[\"Year\"].value_counts()\n",
    "for i in range(2015,2018):\n",
    "    print(i, end=' ')\n",
    "    print(year_count[i])"
   ]
  },
  {
   "cell_type": "markdown",
   "metadata": {},
   "source": [
    "### Q2 Top Indian Cities"
   ]
  },
  {
   "cell_type": "code",
   "execution_count": 2,
   "metadata": {},
   "outputs": [
    {
     "name": "stdout",
     "output_type": "stream",
     "text": [
      "Bangalore 635\n",
      "Mumbai 449\n",
      "New Delhi 389\n",
      "Gurgaon 241\n",
      "Pune 91\n",
      "Noida 79\n",
      "Hyderabad 77\n",
      "Chennai 67\n",
      "Ahmedabad 35\n",
      "Jaipur 25\n"
     ]
    }
   ],
   "source": [
    "import pandas as pd\n",
    "import numpy as np \n",
    "df_start=pd.read_csv('startup_funding.csv',encoding='utf-8')\n",
    "df_start['CityLocation'].dropna(inplace=True)\n",
    "def separateCity(city): \n",
    "    return city.split('/')[0].strip() \n",
    "df_start['CityLocation']=df_start['CityLocation'].apply(separateCity) \n",
    "df_start['CityLocation'].replace(\"Delhi\",\"New Delhi\",inplace=True) \n",
    "df_start['CityLocation'].replace(\"bangalore\",\"Bangalore\",inplace=True) \n",
    "city_number=df_start['CityLocation'].value_counts()[0:10] \n",
    "city=city_number.index \n",
    "numCity=city_number.values \n",
    "for i in range(len(city)): \n",
    "    print(city[i],numCity[i])"
   ]
  },
  {
   "cell_type": "markdown",
   "metadata": {},
   "source": [
    "### Q3 Funding Amount"
   ]
  },
  {
   "cell_type": "code",
   "execution_count": 3,
   "metadata": {},
   "outputs": [
    {
     "name": "stdout",
     "output_type": "stream",
     "text": [
      "Bangalore 49.71\n",
      "New Delhi 16.63\n",
      "Mumbai 13.90\n",
      "Gurgaon 12.21\n",
      "Chennai 2.43\n",
      "Pune 2.16\n",
      "Hyderabad 1.15\n",
      "Noida 1.01\n",
      "Ahmedabad 0.58\n",
      "Jaipur 0.21\n"
     ]
    }
   ],
   "source": [
    "import pandas as pd\n",
    "import numpy as np \n",
    "df=pd.read_csv('startup_funding.csv',encoding='utf-8')\n",
    "df['CityLocation'].dropna(inplace=True)\n",
    "def separateCity(city): \n",
    "    return city.split('/')[0].strip() \n",
    "df['CityLocation']=df['CityLocation'].apply(separateCity) \n",
    "df['CityLocation'].replace(\"Delhi\",\"New Delhi\",inplace=True) \n",
    "df['CityLocation'].replace(\"bangalore\",\"Bangalore\",inplace=True) \n",
    "\n",
    "def str_int(v):\n",
    "    return float(str(v).replace(\",\",\"\"))\n",
    "df['AmountInUSD']=df['AmountInUSD'].apply(str_int)\n",
    "df['AmountInUSD']=pd.to_numeric(df['AmountInUSD'])\n",
    "city_funding=df.groupby(\"CityLocation\")['AmountInUSD'].sum().sort_values(ascending=False)[0:10]\n",
    "city=city_funding.index\n",
    "fundingCity=city_funding.values\n",
    "fundingAmount=np.true_divide(fundingCity,fundingCity.sum())*100\n",
    "for i in range(len(city)):\n",
    "    print(city[i],format(fundingAmount[i],'0.2f'))"
   ]
  },
  {
   "cell_type": "code",
   "execution_count": 4,
   "metadata": {},
   "outputs": [],
   "source": [
    "### Q4 Investment Type"
   ]
  },
  {
   "cell_type": "code",
   "execution_count": 5,
   "metadata": {},
   "outputs": [
    {
     "name": "stdout",
     "output_type": "stream",
     "text": [
      "Private Equity 98.15\n",
      "Seed Funding 1.81\n",
      "Debt Funding 0.04\n",
      "Crowd Funding 0.00\n"
     ]
    }
   ],
   "source": [
    "import pandas as pd\n",
    "import numpy as np\n",
    "import matplotlib.pyplot as plt\n",
    "path = 'startup_funding.csv'\n",
    "df = pd.read_csv(path,skipinitialspace = True)\n",
    "df['AmountInUSD'] = df['AmountInUSD'].apply(lambda x: float(str(x).replace(',','')))\n",
    "df['InvestmentType'].dropna(inplace = True)\n",
    "df['InvestmentType'].replace('SeedFunding','Seed Funding',inplace = True)\n",
    "df['InvestmentType'].replace('PrivateEquity','Private Equity',inplace = True)\n",
    "df['InvestmentType'].replace('Crowd funding','Crowd Funding',inplace = True)\n",
    "Investment = df.groupby('InvestmentType')['AmountInUSD'].sum().sort_values(ascending = False)\n",
    "InvestValue = Investment.values\n",
    "Index = Investment.index\n",
    "percent = np.true_divide(InvestValue,InvestValue.sum())*100\n",
    "for i in range(len(Investment)):\n",
    "    print(Index[i],format(percent[i],'.2f'))"
   ]
  },
  {
   "cell_type": "markdown",
   "metadata": {},
   "source": [
    "### Q5 Top Industries"
   ]
  },
  {
   "cell_type": "code",
   "execution_count": 6,
   "metadata": {},
   "outputs": [
    {
     "name": "stdout",
     "output_type": "stream",
     "text": [
      "Ecommerce 40.53\n",
      "Consumer Internet 35.95\n",
      "Technology 10.45\n",
      "Online Marketplace 6.63\n",
      "E-Commerce & M-Commerce platform 6.44\n"
     ]
    }
   ],
   "source": [
    "import pandas as pd\n",
    "import numpy as np\n",
    "import matplotlib.pyplot as plt\n",
    "path = 'startup_funding.csv'\n",
    "df = pd.read_csv(path,skipinitialspace = True)\n",
    "df['AmountInUSD'] = df['AmountInUSD'].apply(lambda x: float(str(x).replace(',','')))\n",
    "df['IndustryVertical'].dropna(inplace = True)\n",
    "df['IndustryVertical'].replace('eCommerce','Ecommerce',inplace = True)\n",
    "df['IndustryVertical'].replace('ECommerce','Ecommerce',inplace = True)\n",
    "df['IndustryVertical'].replace('ecommerce','Ecommerce',inplace = True)\n",
    "Investment = df.groupby('IndustryVertical')['AmountInUSD'].sum().sort_values(ascending = False)[0:5]\n",
    "InvestValue = Investment.values\n",
    "Index = Investment.index\n",
    "percent = np.true_divide(InvestValue,InvestValue.sum())*100\n",
    "for i in range(5):\n",
    "    print(Index[i],format(percent[i],'.2f'))"
   ]
  },
  {
   "cell_type": "markdown",
   "metadata": {},
   "source": [
    "### Q6 Top startups"
   ]
  },
  {
   "cell_type": "code",
   "execution_count": 7,
   "metadata": {},
   "outputs": [
    {
     "name": "stdout",
     "output_type": "stream",
     "text": [
      "Ecommerce 25.01\n",
      "Consumer Internet 22.18\n",
      "Technology 6.45\n",
      "Online Marketplace 4.09\n",
      "E-Commerce & M-Commerce platform 3.97\n"
     ]
    }
   ],
   "source": [
    "import pandas as pd\n",
    "import numpy as np\n",
    "import matplotlib.pyplot as plt\n",
    "path = 'startup_funding.csv'\n",
    "df = pd.read_csv(path,skipinitialspace = True)\n",
    "df['AmountInUSD'] = df['AmountInUSD'].apply(lambda x: float(str(x).replace(',','')))\n",
    "df['IndustryVertical'].dropna(inplace = True)\n",
    "df['IndustryVertical'].replace('eCommerce','Ecommerce',inplace = True)\n",
    "df['IndustryVertical'].replace('ECommerce','Ecommerce',inplace = True)\n",
    "df['IndustryVertical'].replace('ecommerce','Ecommerce',inplace = True)\n",
    "Investment = df.groupby('IndustryVertical')['AmountInUSD'].sum().sort_values(ascending = False)\n",
    "InvestValue = Investment.values\n",
    "Index = Investment.index\n",
    "percent = np.true_divide(InvestValue,InvestValue.sum())*100\n",
    "for i in range(5):\n",
    "    print(Index[i],format(percent[i],'.2f'))"
   ]
  },
  {
   "cell_type": "markdown",
   "metadata": {},
   "source": [
    "### Q7 Funding rounds"
   ]
  },
  {
   "cell_type": "code",
   "execution_count": 8,
   "metadata": {},
   "outputs": [
    {
     "name": "stdout",
     "output_type": "stream",
     "text": [
      "Ola 9\n",
      "Swiggy 7\n",
      "Oyo 6\n",
      "Paytm 6\n",
      "UrbanClap 6\n"
     ]
    }
   ],
   "source": [
    "import pandas as pd\n",
    "import matplotlib.pyplot as plt\n",
    "data=pd.read_csv('startup_funding.csv')\n",
    "df=data.copy()\n",
    "df[\"StartupName\"].replace(\"Paytm Marketplace\", \"Paytm\",inplace=True)\n",
    "df[\"StartupName\"].replace(\"Ola Cabs\", \"Ola\",inplace=True)\n",
    "df[\"StartupName\"].replace(\"Olacabs\", \"Ola\",inplace=True)\n",
    "df[\"StartupName\"].replace(\"Flipkart.com\", \"Flipkart\",inplace=True)\n",
    "df[\"StartupName\"].replace(\"Oyo Rooms\", \"Oyo\",inplace=True)\n",
    "df[\"StartupName\"].replace(\"OyoRooms\", \"Oyo\",inplace=True)\n",
    "### df[\"StartupName\"].replace(\"OYOfit\", \"Oyo\",inplace=True)\n",
    "df[\"StartupName\"].replace(\"Oyorooms\", \"Oyo\",inplace=True)\n",
    "df[\"StartupName\"].replace(\"Oyo Rooms\", \"Oyo\",inplace=True)\n",
    "df[\"StartupName\"].replace(\"OYO Rooms\", \"Oyo\",inplace=True)\n",
    "\n",
    "\n",
    "\n",
    "startup_funding=df[\"StartupName\"].value_counts()\n",
    "##gs1 will give top 5 \n",
    "startup = startup_funding.index\n",
    "for i in range(0,5):\n",
    "    index=startup_funding.index[i]\n",
    "    value=startup_funding[i]\n",
    "    print(index, end=' ')\n",
    "    print(value)"
   ]
  },
  {
   "cell_type": "markdown",
   "metadata": {},
   "source": [
    "### Q8 Top Investor"
   ]
  },
  {
   "cell_type": "code",
   "execution_count": 9,
   "metadata": {},
   "outputs": [
    {
     "name": "stdout",
     "output_type": "stream",
     "text": [
      "Sequoia Capital 64\n"
     ]
    }
   ],
   "source": [
    "import csv\n",
    "import numpy as np\n",
    "import pandas as pd\n",
    "import matplotlib.pyplot as plt\n",
    "data = pd.read_csv('startup_funding.csv')\n",
    "df = data.copy()\n",
    "df['InvestorsName'] = df['InvestorsName'].apply(lambda x: str(x).split(','))\n",
    "ans = {}\n",
    "for i in df.InvestorsName:\n",
    "    for j in i:\n",
    "        ans[j.strip()] = ans.get(j.strip(), 0)+1\n",
    "investor = max(ans, key = ans.get)\n",
    "num = ans[investor]\n",
    "print(investor, num)"
   ]
  }
 ],
 "metadata": {
  "kernelspec": {
   "display_name": "Python 3",
   "language": "python",
   "name": "python3"
  },
  "language_info": {
   "codemirror_mode": {
    "name": "ipython",
    "version": 3
   },
   "file_extension": ".py",
   "mimetype": "text/x-python",
   "name": "python",
   "nbconvert_exporter": "python",
   "pygments_lexer": "ipython3",
   "version": "3.7.6"
  }
 },
 "nbformat": 4,
 "nbformat_minor": 4
}
